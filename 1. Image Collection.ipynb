{
 "cells": [
  {
   "cell_type": "markdown",
   "metadata": {},
   "source": [
    "# 1. Import Dependencies"
   ]
  },
  {
   "cell_type": "code",
   "execution_count": 1,
   "metadata": {},
   "outputs": [
    {
     "name": "stdout",
     "output_type": "stream",
     "text": [
      "Requirement already satisfied: opencv-python in d:\\youtube\\od\\tfodcourse\\tfod\\lib\\site-packages (4.5.1.48)\n",
      "Requirement already satisfied: numpy>=1.14.5 in d:\\youtube\\od\\tfodcourse\\tfod\\lib\\site-packages (from opencv-python) (1.20.2)\n"
     ]
    }
   ],
   "source": [
    "!pip install opencv-python"
   ]
  },
  {
   "cell_type": "code",
   "execution_count": 3,
   "metadata": {},
   "outputs": [],
   "source": [
    "# Import opencv\n",
    "import cv2 \n",
    "\n",
    "# Import uuid\n",
    "import uuid\n",
    "\n",
    "# Import Operating System\n",
    "import os\n",
    "\n",
    "# Import time\n",
    "import time"
   ]
  },
  {
   "cell_type": "markdown",
   "metadata": {},
   "source": [
    "# 2. Define Images to Collect"
   ]
  },
  {
   "cell_type": "code",
   "execution_count": 9,
   "metadata": {},
   "outputs": [],
   "source": [
    "labels = ['thumbsup_anime', 'thumbsup_human']\n",
    "number_imgs = 10"
   ]
  },
  {
   "cell_type": "markdown",
   "metadata": {},
   "source": [
    "# 3. Setup Folders "
   ]
  },
  {
   "cell_type": "code",
   "execution_count": 10,
   "metadata": {},
   "outputs": [],
   "source": [
    "IMAGES_PATH = os.path.join('Tensorflow', 'workspace', 'images', 'collectedimages')"
   ]
  },
  {
   "cell_type": "code",
   "execution_count": 11,
   "metadata": {},
   "outputs": [
    {
     "name": "stdout",
     "output_type": "stream",
     "text": [
      "Image:F:\\Desktop\\Fall2022\\CSE168\\Lab03\\Tensorflow\\workspace\\images\\collectedimages\\thumbsup_anime\\00-featured-katsuki-bakugou-anime-thumbsup-screenshot.jpg -> Annotation:F:/Desktop/Fall2022/CSE168/Lab03/Tensorflow/workspace/images/collectedimages/thumbsup_anime\\00-featured-katsuki-bakugou-anime-thumbsup-screenshot.xml\n",
      "Image:F:\\Desktop\\Fall2022\\CSE168\\Lab03\\Tensorflow\\workspace\\images\\collectedimages\\thumbsup_anime\\3k1q6u.jpg -> Annotation:F:/Desktop/Fall2022/CSE168/Lab03/Tensorflow/workspace/images/collectedimages/thumbsup_anime\\3k1q6u.xml\n",
      "Image:F:\\Desktop\\Fall2022\\CSE168\\Lab03\\Tensorflow\\workspace\\images\\collectedimages\\thumbsup_anime\\5fwidlg5sxzdckxsdm3b4cp3a2oupgai_hq.jpg -> Annotation:F:/Desktop/Fall2022/CSE168/Lab03/Tensorflow/workspace/images/collectedimages/thumbsup_anime\\5fwidlg5sxzdckxsdm3b4cp3a2oupgai_hq.xml\n",
      "Image:F:\\Desktop\\Fall2022\\CSE168\\Lab03\\Tensorflow\\workspace\\images\\collectedimages\\thumbsup_anime\\8e83a17424fd2bf4e7809284924677c6.jpg -> Annotation:F:/Desktop/Fall2022/CSE168/Lab03/Tensorflow/workspace/images/collectedimages/thumbsup_anime\\8e83a17424fd2bf4e7809284924677c6.xml\n",
      "Image:F:\\Desktop\\Fall2022\\CSE168\\Lab03\\Tensorflow\\workspace\\images\\collectedimages\\thumbsup_anime\\9d096c3a6a51413edee5385ca50dd0a2.jpg -> Annotation:F:/Desktop/Fall2022/CSE168/Lab03/Tensorflow/workspace/images/collectedimages/thumbsup_anime\\9d096c3a6a51413edee5385ca50dd0a2.xml\n",
      "Image:F:\\Desktop\\Fall2022\\CSE168\\Lab03\\Tensorflow\\workspace\\images\\collectedimages\\thumbsup_anime\\31-311991_anime-clipart-thumbs-up-konosuba-kazuma-thumbs-up.jpg -> Annotation:F:/Desktop/Fall2022/CSE168/Lab03/Tensorflow/workspace/images/collectedimages/thumbsup_anime\\31-311991_anime-clipart-thumbs-up-konosuba-kazuma-thumbs-up.xml\n",
      "Image:F:\\Desktop\\Fall2022\\CSE168\\Lab03\\Tensorflow\\workspace\\images\\collectedimages\\thumbsup_anime\\39gmld.jpg -> Annotation:F:/Desktop/Fall2022/CSE168/Lab03/Tensorflow/workspace/images/collectedimages/thumbsup_anime\\39gmld.xml\n",
      "Image:F:\\Desktop\\Fall2022\\CSE168\\Lab03\\Tensorflow\\workspace\\images\\collectedimages\\thumbsup_anime\\44wiRm.jpg -> Annotation:F:/Desktop/Fall2022/CSE168/Lab03/Tensorflow/workspace/images/collectedimages/thumbsup_anime\\44wiRm.xml\n",
      "Image:F:\\Desktop\\Fall2022\\CSE168\\Lab03\\Tensorflow\\workspace\\images\\collectedimages\\thumbsup_anime\\70-700581_thumbs-up-anime-png.jpg -> Annotation:F:/Desktop/Fall2022/CSE168/Lab03/Tensorflow/workspace/images/collectedimages/thumbsup_anime\\70-700581_thumbs-up-anime-png.xml\n",
      "Image:F:\\Desktop\\Fall2022\\CSE168\\Lab03\\Tensorflow\\workspace\\images\\collectedimages\\thumbsup_anime\\94-945539-konata-izumi-png-anime-thumbs-up-png-transparent.jpg -> Annotation:F:/Desktop/Fall2022/CSE168/Lab03/Tensorflow/workspace/images/collectedimages/thumbsup_anime\\94-945539-konata-izumi-png-anime-thumbs-up-png-transparent.xml\n",
      "Image:F:\\Desktop\\Fall2022\\CSE168\\Lab03\\Tensorflow\\workspace\\images\\collectedimages\\thumbsup_anime\\149-1491578_10-mar-anime-thumbs-up-emote.jpg -> Annotation:F:/Desktop/Fall2022/CSE168/Lab03/Tensorflow/workspace/images/collectedimages/thumbsup_anime\\149-1491578_10-mar-anime-thumbs-up-emote.xml\n",
      "Image:F:\\Desktop\\Fall2022\\CSE168\\Lab03\\Tensorflow\\workspace\\images\\collectedimages\\thumbsup_anime\\293-2933311_anime-clipart-thumbs-up-miss-kobayashis-dragon-maid-genderbend.jpg -> Annotation:F:/Desktop/Fall2022/CSE168/Lab03/Tensorflow/workspace/images/collectedimages/thumbsup_anime\\293-2933311_anime-clipart-thumbs-up-miss-kobayashis-dragon-maid-genderbend.xml\n",
      "Image:F:\\Desktop\\Fall2022\\CSE168\\Lab03\\Tensorflow\\workspace\\images\\collectedimages\\thumbsup_anime\\406c45293148eb4b99d434ab42eddb85.jpg -> Annotation:F:/Desktop/Fall2022/CSE168/Lab03/Tensorflow/workspace/images/collectedimages/thumbsup_anime\\406c45293148eb4b99d434ab42eddb85.xml\n",
      "Image:F:\\Desktop\\Fall2022\\CSE168\\Lab03\\Tensorflow\\workspace\\images\\collectedimages\\thumbsup_anime\\684-6848954_anime-thumbs-up-png-png-download-transparent-png.jpg -> Annotation:F:/Desktop/Fall2022/CSE168/Lab03/Tensorflow/workspace/images/collectedimages/thumbsup_anime\\684-6848954_anime-thumbs-up-png-png-download-transparent-png.xml\n",
      "Image:F:\\Desktop\\Fall2022\\CSE168\\Lab03\\Tensorflow\\workspace\\images\\collectedimages\\thumbsup_anime\\961.jpg -> Annotation:F:/Desktop/Fall2022/CSE168/Lab03/Tensorflow/workspace/images/collectedimages/thumbsup_anime\\961.xml\n",
      "Image:F:\\Desktop\\Fall2022\\CSE168\\Lab03\\Tensorflow\\workspace\\images\\collectedimages\\thumbsup_anime\\816345.jpg -> Annotation:F:/Desktop/Fall2022/CSE168/Lab03/Tensorflow/workspace/images/collectedimages/thumbsup_anime\\816345.xml\n",
      "Image:F:\\Desktop\\Fall2022\\CSE168\\Lab03\\Tensorflow\\workspace\\images\\collectedimages\\thumbsup_anime\\all.jpg -> Annotation:F:/Desktop/Fall2022/CSE168/Lab03/Tensorflow/workspace/images/collectedimages/thumbsup_anime\\all.xml\n",
      "Image:F:\\Desktop\\Fall2022\\CSE168\\Lab03\\Tensorflow\\workspace\\images\\collectedimages\\thumbsup_anime\\anime-thumbs-up.jpg -> Annotation:F:/Desktop/Fall2022/CSE168/Lab03/Tensorflow/workspace/images/collectedimages/thumbsup_anime\\anime-thumbs-up.xml\n",
      "Image:F:\\Desktop\\Fall2022\\CSE168\\Lab03\\Tensorflow\\workspace\\images\\collectedimages\\thumbsup_anime\\c00.jpg -> Annotation:F:/Desktop/Fall2022/CSE168/Lab03/Tensorflow/workspace/images/collectedimages/thumbsup_anime\\c00.xml\n",
      "Image:F:\\Desktop\\Fall2022\\CSE168\\Lab03\\Tensorflow\\workspace\\images\\collectedimages\\thumbsup_anime\\c1b0a9e529ab9a6372d22a1137c5d4be.jpg -> Annotation:F:/Desktop/Fall2022/CSE168/Lab03/Tensorflow/workspace/images/collectedimages/thumbsup_anime\\c1b0a9e529ab9a6372d22a1137c5d4be.xml\n",
      "Image:F:\\Desktop\\Fall2022\\CSE168\\Lab03\\Tensorflow\\workspace\\images\\collectedimages\\thumbsup_anime\\dd964229a55cf670ddcb6693e739f694.jpg -> Annotation:F:/Desktop/Fall2022/CSE168/Lab03/Tensorflow/workspace/images/collectedimages/thumbsup_anime\\dd964229a55cf670ddcb6693e739f694.xml\n",
      "Image:F:\\Desktop\\Fall2022\\CSE168\\Lab03\\Tensorflow\\workspace\\images\\collectedimages\\thumbsup_anime\\e114-2.jpg -> Annotation:F:/Desktop/Fall2022/CSE168/Lab03/Tensorflow/workspace/images/collectedimages/thumbsup_anime\\e114-2.xml\n",
      "Image:F:\\Desktop\\Fall2022\\CSE168\\Lab03\\Tensorflow\\workspace\\images\\collectedimages\\thumbsup_anime\\HfuLdiwWo32U976MxLo7n3OAl0rbWJH3EMfuk05_Xu8ciUZFd0mkLgua8wVJLwyYjYXIX35sfcut6Z9h8NLfPdNfVZOUIl9omOIXkzbkq3yooPcnRjWpII5MZsVRo9cghHkreWHbuyWzI0JyQLkKYQ.jpg -> Annotation:F:/Desktop/Fall2022/CSE168/Lab03/Tensorflow/workspace/images/collectedimages/thumbsup_anime\\HfuLdiwWo32U976MxLo7n3OAl0rbWJH3EMfuk05_Xu8ciUZFd0mkLgua8wVJLwyYjYXIX35sfcut6Z9h8NLfPdNfVZOUIl9omOIXkzbkq3yooPcnRjWpII5MZsVRo9cghHkreWHbuyWzI0JyQLkKYQ.xml\n",
      "Image:F:\\Desktop\\Fall2022\\CSE168\\Lab03\\Tensorflow\\workspace\\images\\collectedimages\\thumbsup_anime\\kazuma-thumbs-up-konosuba.jpg -> Annotation:F:/Desktop/Fall2022/CSE168/Lab03/Tensorflow/workspace/images/collectedimages/thumbsup_anime\\kazuma-thumbs-up-konosuba.xml\n",
      "Image:F:\\Desktop\\Fall2022\\CSE168\\Lab03\\Tensorflow\\workspace\\images\\collectedimages\\thumbsup_anime\\LaidBack-thumbsup.jpg -> Annotation:F:/Desktop/Fall2022/CSE168/Lab03/Tensorflow/workspace/images/collectedimages/thumbsup_anime\\LaidBack-thumbsup.xml\n",
      "Image:F:\\Desktop\\Fall2022\\CSE168\\Lab03\\Tensorflow\\workspace\\images\\collectedimages\\thumbsup_anime\\megumin.jpg -> Annotation:F:/Desktop/Fall2022/CSE168/Lab03/Tensorflow/workspace/images/collectedimages/thumbsup_anime\\megumin.xml\n",
      "Image:F:\\Desktop\\Fall2022\\CSE168\\Lab03\\Tensorflow\\workspace\\images\\collectedimages\\thumbsup_anime\\miku-nakano-thumbs-up-rlcj5ihs6exeb9m9.jpg -> Annotation:F:/Desktop/Fall2022/CSE168/Lab03/Tensorflow/workspace/images/collectedimages/thumbsup_anime\\miku-nakano-thumbs-up-rlcj5ihs6exeb9m9.xml\n",
      "Image:F:\\Desktop\\Fall2022\\CSE168\\Lab03\\Tensorflow\\workspace\\images\\collectedimages\\thumbsup_anime\\naruto-thumbs-up.jpg -> Annotation:F:/Desktop/Fall2022/CSE168/Lab03/Tensorflow/workspace/images/collectedimages/thumbsup_anime\\naruto-thumbs-up.xml\n",
      "Image:F:\\Desktop\\Fall2022\\CSE168\\Lab03\\Tensorflow\\workspace\\images\\collectedimages\\thumbsup_anime\\png-transparent-rin-okumura-blue-exorcist-anime-manga-anime-television-mammal-black-hair.jpg -> Annotation:F:/Desktop/Fall2022/CSE168/Lab03/Tensorflow/workspace/images/collectedimages/thumbsup_anime\\png-transparent-rin-okumura-blue-exorcist-anime-manga-anime-television-mammal-black-hair.xml\n",
      "Image:F:\\Desktop\\Fall2022\\CSE168\\Lab03\\Tensorflow\\workspace\\images\\collectedimages\\thumbsup_anime\\Samantha-Coming-Out-003-20180312.jpg -> Annotation:F:/Desktop/Fall2022/CSE168/Lab03/Tensorflow/workspace/images/collectedimages/thumbsup_anime\\Samantha-Coming-Out-003-20180312.xml\n",
      "Image:F:\\Desktop\\Fall2022\\CSE168\\Lab03\\Tensorflow\\workspace\\images\\collectedimages\\thumbsup_anime\\Sentai-Blog-Anime-Cinematography-01-Mr-Tonegawa-Middle-Management-Blues.jpg -> Annotation:F:/Desktop/Fall2022/CSE168/Lab03/Tensorflow/workspace/images/collectedimages/thumbsup_anime\\Sentai-Blog-Anime-Cinematography-01-Mr-Tonegawa-Middle-Management-Blues.xml\n",
      "Image:F:\\Desktop\\Fall2022\\CSE168\\Lab03\\Tensorflow\\workspace\\images\\collectedimages\\thumbsup_anime\\shinichi_sakurai_giving_a_thumbs_up_by_l_dawg211_deoatgp-fullview.jpg -> Annotation:F:/Desktop/Fall2022/CSE168/Lab03/Tensorflow/workspace/images/collectedimages/thumbsup_anime\\shinichi_sakurai_giving_a_thumbs_up_by_l_dawg211_deoatgp-fullview.xml\n",
      "Image:F:\\Desktop\\Fall2022\\CSE168\\Lab03\\Tensorflow\\workspace\\images\\collectedimages\\thumbsup_anime\\st,small,507x507-pad,600x600,f8f8f8.jpg -> Annotation:F:/Desktop/Fall2022/CSE168/Lab03/Tensorflow/workspace/images/collectedimages/thumbsup_anime\\st,small,507x507-pad,600x600,f8f8f8.xml\n",
      "Image:F:\\Desktop\\Fall2022\\CSE168\\Lab03\\Tensorflow\\workspace\\images\\collectedimages\\thumbsup_anime\\st,small,507x507-pad,600x600,f8f8f8.u11.jpg -> Annotation:F:/Desktop/Fall2022/CSE168/Lab03/Tensorflow/workspace/images/collectedimages/thumbsup_anime\\st,small,507x507-pad,600x600,f8f8f8.u11.xml\n",
      "Image:F:\\Desktop\\Fall2022\\CSE168\\Lab03\\Tensorflow\\workspace\\images\\collectedimages\\thumbsup_anime\\tenor.jpg -> Annotation:F:/Desktop/Fall2022/CSE168/Lab03/Tensorflow/workspace/images/collectedimages/thumbsup_anime\\tenor.xml\n",
      "Image:F:\\Desktop\\Fall2022\\CSE168\\Lab03\\Tensorflow\\workspace\\images\\collectedimages\\thumbsup_anime\\thumbsup.jpg -> Annotation:F:/Desktop/Fall2022/CSE168/Lab03/Tensorflow/workspace/images/collectedimages/thumbsup_anime\\thumbsup.xml\n"
     ]
    }
   ],
   "source": [
    "if not os.path.exists(IMAGES_PATH):\n",
    "    if os.name == 'posix':\n",
    "        !mkdir -p {IMAGES_PATH}\n",
    "    if os.name == 'nt':\n",
    "         !mkdir {IMAGES_PATH}\n",
    "for label in labels:\n",
    "    path = os.path.join(IMAGES_PATH, label)\n",
    "    if not os.path.exists(path):\n",
    "        !mkdir {path}"
   ]
  },
  {
   "cell_type": "markdown",
   "metadata": {},
   "source": [
    "# 4. Capture Images"
   ]
  },
  {
   "cell_type": "code",
   "execution_count": 18,
   "metadata": {},
   "outputs": [
    {
     "name": "stdout",
     "output_type": "stream",
     "text": [
      "Collecting images for thumbsup\n",
      "Collecting image 0\n",
      "Collecting image 1\n",
      "Collecting image 2\n",
      "Collecting image 3\n",
      "Collecting image 4\n"
     ]
    }
   ],
   "source": [
    "for label in labels:\n",
    "    cap = cv2.VideoCapture(0)\n",
    "    print('Collecting images for {}'.format(label))\n",
    "    time.sleep(5)\n",
    "    for imgnum in range(number_imgs):\n",
    "        print('Collecting image {}'.format(imgnum))\n",
    "        ret, frame = cap.read()\n",
    "        imgname = os.path.join(IMAGES_PATH,label,label+'.'+'{}.jpg'.format(str(uuid.uuid1())))\n",
    "        cv2.imwrite(imgname, frame)\n",
    "        cv2.imshow('frame', frame)\n",
    "        time.sleep(2)\n",
    "\n",
    "        if cv2.waitKey(1) & 0xFF == ord('q'):\n",
    "            break\n",
    "cap.release()\n",
    "cv2.destroyAllWindows()"
   ]
  },
  {
   "cell_type": "markdown",
   "metadata": {},
   "source": [
    "# 5. Image Labelling"
   ]
  },
  {
   "cell_type": "code",
   "execution_count": 10,
   "metadata": {},
   "outputs": [
    {
     "name": "stdout",
     "output_type": "stream",
     "text": [
      "Collecting pyqt5\n",
      "  Using cached PyQt5-5.15.4-cp36.cp37.cp38.cp39-none-win_amd64.whl (6.8 MB)\n",
      "Collecting lxml\n",
      "  Using cached lxml-4.6.3-cp37-cp37m-win_amd64.whl (3.5 MB)\n",
      "Collecting PyQt5-sip<13,>=12.8\n",
      "  Using cached PyQt5_sip-12.8.1-cp37-cp37m-win_amd64.whl (62 kB)\n",
      "Collecting PyQt5-Qt5>=5.15\n",
      "  Using cached PyQt5_Qt5-5.15.2-py3-none-win_amd64.whl (50.1 MB)\n",
      "Installing collected packages: PyQt5-sip, PyQt5-Qt5, pyqt5, lxml\n",
      "Successfully installed PyQt5-Qt5-5.15.2 PyQt5-sip-12.8.1 lxml-4.6.3 pyqt5-5.15.4\n"
     ]
    }
   ],
   "source": [
    "!pip install --upgrade pyqt5 lxml"
   ]
  },
  {
   "cell_type": "code",
   "execution_count": 4,
   "metadata": {},
   "outputs": [],
   "source": [
    "LABELIMG_PATH = os.path.join('Tensorflow', 'labelimg')"
   ]
  },
  {
   "cell_type": "code",
   "execution_count": 5,
   "metadata": {},
   "outputs": [],
   "source": [
    "if not os.path.exists(LABELIMG_PATH):\n",
    "    !mkdir {LABELIMG_PATH}\n",
    "    !git clone https://github.com/tzutalin/labelImg {LABELIMG_PATH}"
   ]
  },
  {
   "cell_type": "code",
   "execution_count": 6,
   "metadata": {},
   "outputs": [],
   "source": [
    "if os.name == 'posix':\n",
    "    !make qt5py3\n",
    "if os.name =='nt':\n",
    "    !cd {LABELIMG_PATH} && pyrcc5 -o libs/resources.py resources.qrc"
   ]
  },
  {
   "cell_type": "code",
   "execution_count": null,
   "metadata": {},
   "outputs": [],
   "source": [
    "!cd {LABELIMG_PATH} && python labelImg.py"
   ]
  },
  {
   "cell_type": "markdown",
   "metadata": {},
   "source": [
    "# 6. Move them into a Training and Testing Partition"
   ]
  },
  {
   "cell_type": "markdown",
   "metadata": {},
   "source": [
    "# OPTIONAL - 7. Compress them for Colab Training"
   ]
  },
  {
   "cell_type": "code",
   "execution_count": 9,
   "metadata": {},
   "outputs": [],
   "source": [
    "TRAIN_PATH = os.path.join('Tensorflow', 'workspace', 'images', 'train')\n",
    "TEST_PATH = os.path.join('Tensorflow', 'workspace', 'images', 'test')\n",
    "ARCHIVE_PATH = os.path.join('Tensorflow', 'workspace', 'images', 'archive.tar.gz')"
   ]
  },
  {
   "cell_type": "code",
   "execution_count": 10,
   "metadata": {},
   "outputs": [],
   "source": [
    "!tar -czf {ARCHIVE_PATH} {TRAIN_PATH} {TEST_PATH}"
   ]
  },
  {
   "cell_type": "code",
   "execution_count": null,
   "metadata": {},
   "outputs": [],
   "source": []
  }
 ],
 "metadata": {
  "kernelspec": {
   "display_name": "tfodj",
   "language": "python",
   "name": "tfodj"
  },
  "language_info": {
   "codemirror_mode": {
    "name": "ipython",
    "version": 3
   },
   "file_extension": ".py",
   "mimetype": "text/x-python",
   "name": "python",
   "nbconvert_exporter": "python",
   "pygments_lexer": "ipython3",
   "version": "3.9.13"
  }
 },
 "nbformat": 4,
 "nbformat_minor": 2
}
